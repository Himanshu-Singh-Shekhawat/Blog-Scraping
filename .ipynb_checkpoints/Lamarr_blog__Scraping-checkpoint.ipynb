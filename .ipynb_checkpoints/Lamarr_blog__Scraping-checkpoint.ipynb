{
 "cells": [
  {
   "cell_type": "code",
   "execution_count": 2,
   "id": "78ae3ee2",
   "metadata": {},
   "outputs": [],
   "source": [
    "from selenium import webdriver\n",
    "from selenium.webdriver.common.by import By\n",
    "from webdriver_manager.chrome import ChromeDriverManager\n",
    "import pandas as pd\n",
    "import time\n",
    "import json\n",
    "\n",
    "def scrape_blog_data(url, output_file):\n",
    "    # Initialize Chrome Driver\n",
    "    driver = webdriver.Chrome()\n",
    "    driver.maximize_window()\n",
    "    driver.get(url)\n",
    "    driver.implicitly_wait(10)\n",
    "    driver.execute_script(\"window.scrollTo(0, document.body.scrollHeight);\")\n",
    "    time.sleep(2)\n",
    "\n",
    "    # Scroll the Page to the end\n",
    "    prev_height = driver.execute_script(\"return document.body.scrollHeight\")\n",
    "    while True:\n",
    "        driver.execute_script(\"window.scrollTo(0, document.body.scrollHeight);\")\n",
    "        time.sleep(5)\n",
    "        curr_height = driver.execute_script(\"return document.body.scrollHeight\")\n",
    "        if curr_height == prev_height:\n",
    "            break\n",
    "        prev_height = curr_height\n",
    "\n",
    "    # Find Blog Post Links\n",
    "    xpath1 = r'//div[@class=\"JMCi2v blog-post-homepage-link-hashtag-hover-color so9KdE lyd6fK\"]/a'\n",
    "    links = driver.find_elements(By.XPATH, xpath1)\n",
    "\n",
    "    urls = []\n",
    "    for link in links:\n",
    "        urls.append(link.get_property('href'))\n",
    "\n",
    "    # Define Xpaths\n",
    "    xpath11 = '//span[@class=\"blog-post-title-font blog-post-title-color\"]'\n",
    "    xpath12 = r'//div/article[@class=\"j3D9DG blog-post-page-font blog-card-background-color blog-card-border-color blog-text-color\"]'\n",
    "    urls13 = urls[:5]\n",
    "\n",
    "    data_list = []  # Create a list to store scraped data\n",
    "\n",
    "    for url in urls:\n",
    "        driver.get(url)\n",
    "        try:\n",
    "            content_text = driver.find_element(By.XPATH, xpath12)\n",
    "            title_text = driver.find_element(By.XPATH, xpath11).text\n",
    "            data_dict = {'title': title_text, 'content': content_text.text}\n",
    "            data_list.append(data_dict)\n",
    "        except NoSuchElementException:\n",
    "            # Handle the case where the element is not found\n",
    "            data_dict = {'title': \"Element not found\", 'content': \"Element not found\"}\n",
    "            data_list.append(data_dict)\n",
    "\n",
    "    # Save the data to a JSON file\n",
    "    with open(output_file, 'w', encoding='utf-8') as json_file:\n",
    "        json.dump(data_list, json_file, ensure_ascii=False, indent=4)\n",
    "\n",
    "    # Close the WebDriver\n",
    "    driver.quit()\n",
    "\n",
    "# Example usage\n",
    "scrape_blog_data(\"https://www.irccl.in/blog\", \"Blog_scraping.json\")\n"
   ]
  },
  {
   "cell_type": "code",
   "execution_count": null,
   "id": "eab8ac40",
   "metadata": {},
   "outputs": [],
   "source": []
  }
 ],
 "metadata": {
  "kernelspec": {
   "display_name": "Python 3 (ipykernel)",
   "language": "python",
   "name": "python3"
  },
  "language_info": {
   "codemirror_mode": {
    "name": "ipython",
    "version": 3
   },
   "file_extension": ".py",
   "mimetype": "text/x-python",
   "name": "python",
   "nbconvert_exporter": "python",
   "pygments_lexer": "ipython3",
   "version": "3.9.12"
  },
  "vscode": {
   "interpreter": {
    "hash": "5a9478d90e8483a283b78b8bbbe2ebeb9e099ed41a16dec964a74b29e33a72c6"
   }
  }
 },
 "nbformat": 4,
 "nbformat_minor": 5
}
